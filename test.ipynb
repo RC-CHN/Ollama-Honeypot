{
 "cells": [
  {
   "cell_type": "code",
   "execution_count": 11,
   "metadata": {},
   "outputs": [
    {
     "name": "stdout",
     "output_type": "stream",
     "text": [
      "{'model': 'deepseek-r1:671b', 'created_at': '2025-03-29T03:13:03.958384Z', 'response': '服务器繁忙，请稍后再试。', 'done': True, 'done_reason': 'stop'}\n"
     ]
    }
   ],
   "source": [
    "import requests\n",
    "\n",
    "url = \"http://localhost:11434/api/generate\"\n",
    "data = {\n",
    "    \"model\": \"deepseek-r1:671b\",\n",
    "    \"prompt\": \"Why is the sky blue?\",\n",
    "    \"stream\": True\n",
    "}\n",
    "\n",
    "response = requests.post(url, json=data)\n",
    "\n",
    "print(response.json())  # 解析并打印 JSON 响应\n"
   ]
  },
  {
   "cell_type": "code",
   "execution_count": 10,
   "metadata": {},
   "outputs": [
    {
     "name": "stdout",
     "output_type": "stream",
     "text": [
      "{\"model\":\"deepseek-r1:671b\",\"created_at\":\"2025-03-29T03:13:01.4789634Z\",\"message\":{\"role\":\"assistant\",\"content\":\"服务器繁忙，请稍后再试。\"},\"done_reason\":\"stop\",\"done\":false,\"prompt_eval_count\":100,\"prompt_eval_duration\":1106043600,\"eval_count\":1000,\"eval_duration\":417800}\n"
     ]
    }
   ],
   "source": [
    "import requests\n",
    "\n",
    "url = \"http://localhost:11434/api/chat\"\n",
    "data = {\n",
    "    \"model\": \"deepseek-r1:671b\",\n",
    "    \"messages\": [\n",
    "        {\n",
    "            \"role\": \"user\",\n",
    "            \"content\": \"why is the sky blue?\"\n",
    "        }\n",
    "    ],\n",
    "}\n",
    "\n",
    "response = requests.post(url, json=data)\n",
    "\n",
    "print(response.text)  # 解析并打印 JSON 响应\n"
   ]
  },
  {
   "cell_type": "code",
   "execution_count": 3,
   "metadata": {},
   "outputs": [
    {
     "data": {
      "text/plain": [
       "'{\"model\":\"deepseek-r1:671b\",\"created_at\":\"2025-03-24T14:04:39.2043357Z\",\"message\":{\"role\":\"assistant\",\"content\":\"服\"},\"done\":false,\"prompt_eval_count\":100,\"prompt_eval_duration\":1000000000,\"eval_count\":1000,\"eval_duration\":60000000000}\\n{\"model\":\"deepseek-r1:671b\",\"created_at\":\"2025-03-24T14:04:39.7049289Z\",\"message\":{\"role\":\"assistant\",\"content\":\"务\"},\"done\":false,\"prompt_eval_count\":100,\"prompt_eval_duration\":1000000000,\"eval_count\":1000,\"eval_duration\":60000000000}\\n{\"model\":\"deepseek-r1:671b\",\"created_at\":\"2025-03-24T14:04:40.2052516Z\",\"message\":{\"role\":\"assistant\",\"content\":\"器\"},\"done\":false,\"prompt_eval_count\":100,\"prompt_eval_duration\":1000000000,\"eval_count\":1000,\"eval_duration\":60000000000}\\n{\"model\":\"deepseek-r1:671b\",\"created_at\":\"2025-03-24T14:04:40.705762Z\",\"message\":{\"role\":\"assistant\",\"content\":\"繁\"},\"done\":false,\"prompt_eval_count\":100,\"prompt_eval_duration\":1000000000,\"eval_count\":1000,\"eval_duration\":60000000000}\\n{\"model\":\"deepseek-r1:671b\",\"created_at\":\"2025-03-24T14:04:41.206156Z\",\"message\":{\"role\":\"assistant\",\"content\":\"忙\"},\"done\":false,\"prompt_eval_count\":100,\"prompt_eval_duration\":1000000000,\"eval_count\":1000,\"eval_duration\":60000000000}\\n{\"model\":\"deepseek-r1:671b\",\"created_at\":\"2025-03-24T14:04:41.7071533Z\",\"message\":{\"role\":\"assistant\",\"content\":\"，\"},\"done\":false,\"prompt_eval_count\":100,\"prompt_eval_duration\":1000000000,\"eval_count\":1000,\"eval_duration\":60000000000}\\n{\"model\":\"deepseek-r1:671b\",\"created_at\":\"2025-03-24T14:04:42.2075146Z\",\"message\":{\"role\":\"assistant\",\"content\":\"请\"},\"done\":false,\"prompt_eval_count\":100,\"prompt_eval_duration\":1000000000,\"eval_count\":1000,\"eval_duration\":60000000000}\\n{\"model\":\"deepseek-r1:671b\",\"created_at\":\"2025-03-24T14:04:42.7083898Z\",\"message\":{\"role\":\"assistant\",\"content\":\"稍\"},\"done\":false,\"prompt_eval_count\":100,\"prompt_eval_duration\":1000000000,\"eval_count\":1000,\"eval_duration\":60000000000}\\n{\"model\":\"deepseek-r1:671b\",\"created_at\":\"2025-03-24T14:04:43.2087977Z\",\"message\":{\"role\":\"assistant\",\"content\":\"后\"},\"done\":false,\"prompt_eval_count\":100,\"prompt_eval_duration\":1000000000,\"eval_count\":1000,\"eval_duration\":60000000000}\\n{\"model\":\"deepseek-r1:671b\",\"created_at\":\"2025-03-24T14:04:43.7099601Z\",\"message\":{\"role\":\"assistant\",\"content\":\"再\"},\"done\":false,\"prompt_eval_count\":100,\"prompt_eval_duration\":1000000000,\"eval_count\":1000,\"eval_duration\":60000000000}\\n{\"model\":\"deepseek-r1:671b\",\"created_at\":\"2025-03-24T14:04:44.2105097Z\",\"message\":{\"role\":\"assistant\",\"content\":\"试\"},\"done\":false,\"prompt_eval_count\":100,\"prompt_eval_duration\":1000000000,\"eval_count\":1000,\"eval_duration\":60000000000}\\n{\"model\":\"deepseek-r1:671b\",\"created_at\":\"2025-03-24T14:04:44.7117464Z\",\"message\":{\"role\":\"assistant\",\"content\":\"。\"},\"done\":false,\"prompt_eval_count\":100,\"prompt_eval_duration\":1000000000,\"eval_count\":1000,\"eval_duration\":60000000000}\\n{\"model\":\"deepseek-r1:671b\",\"created_at\":\"2025-03-24T14:04:45.212047Z\",\"message\":{\"role\":\"assistant\",\"content\":\"\"},\"done_reason\":\"stop\",\"done\":false,\"prompt_eval_count\":100,\"prompt_eval_duration\":6020734500,\"eval_count\":1000,\"eval_duration\":717300}\\n'"
      ]
     },
     "execution_count": 3,
     "metadata": {},
     "output_type": "execute_result"
    }
   ],
   "source": [
    "response.text"
   ]
  },
  {
   "cell_type": "code",
   "execution_count": 12,
   "metadata": {},
   "outputs": [
    {
     "name": "stdout",
     "output_type": "stream",
     "text": [
      "ChatCompletionMessage(content='服务器繁忙，请稍后再试。', refusal=None, role='assistant', audio=None, function_call=None, tool_calls=None)\n"
     ]
    }
   ],
   "source": [
    "from openai import OpenAI\n",
    "client = OpenAI(base_url=\"http://127.0.0.1:11434/v1/\", api_key=\"aaa\")\n",
    "\n",
    "completion = client.chat.completions.create(\n",
    "  model=\"deepseek-r1:671b\",\n",
    "  messages=[\n",
    "    {\"role\": \"developer\", \"content\": \"You are a helpful assistant.\"},\n",
    "    {\"role\": \"user\", \"content\": \"Hello!\"}\n",
    "  ],\n",
    ")\n",
    "\n",
    "print(completion.choices[0].message)\n"
   ]
  },
  {
   "cell_type": "code",
   "execution_count": 13,
   "metadata": {},
   "outputs": [
    {
     "name": "stdout",
     "output_type": "stream",
     "text": [
      "ChoiceDelta(content='服', function_call=None, refusal=None, role='assistant', tool_calls=None)\n",
      "ChoiceDelta(content='务', function_call=None, refusal=None, role='assistant', tool_calls=None)\n",
      "ChoiceDelta(content='器', function_call=None, refusal=None, role='assistant', tool_calls=None)\n",
      "ChoiceDelta(content='繁', function_call=None, refusal=None, role='assistant', tool_calls=None)\n",
      "ChoiceDelta(content='忙', function_call=None, refusal=None, role='assistant', tool_calls=None)\n",
      "ChoiceDelta(content='，', function_call=None, refusal=None, role='assistant', tool_calls=None)\n",
      "ChoiceDelta(content='请', function_call=None, refusal=None, role='assistant', tool_calls=None)\n",
      "ChoiceDelta(content='稍', function_call=None, refusal=None, role='assistant', tool_calls=None)\n",
      "ChoiceDelta(content='后', function_call=None, refusal=None, role='assistant', tool_calls=None)\n",
      "ChoiceDelta(content='再', function_call=None, refusal=None, role='assistant', tool_calls=None)\n",
      "ChoiceDelta(content='试', function_call=None, refusal=None, role='assistant', tool_calls=None)\n",
      "ChoiceDelta(content='。', function_call=None, refusal=None, role='assistant', tool_calls=None)\n",
      "ChoiceDelta(content='', function_call=None, refusal=None, role='assistant', tool_calls=None)\n"
     ]
    }
   ],
   "source": [
    "from openai import OpenAI\n",
    "client = OpenAI(base_url=\"http://127.0.0.1:11434/v1/\", api_key=\"aaa\")\n",
    "\n",
    "completion = client.chat.completions.create(\n",
    "  model=\"deepseek-r1:671b\",\n",
    "  messages=[\n",
    "    {\"role\": \"developer\", \"content\": \"You are a helpful assistant.\"},\n",
    "    {\"role\": \"user\", \"content\": \"Hello!\"}\n",
    "  ],\n",
    "  stream=True\n",
    ")\n",
    "\n",
    "for chunk in completion:\n",
    "  print(chunk.choices[0].delta)\n"
   ]
  },
  {
   "cell_type": "code",
   "execution_count": 1,
   "metadata": {},
   "outputs": [
    {
     "name": "stdout",
     "output_type": "stream",
     "text": [
      "{\"license\":\"MIT License\\n\\nCopyright (c) 2023 DeepSeek\\n\\nPermission is hereby granted, free of charge, to any person obtaining a copy\\nof this software and associated documentation files (the \\\"Software\\\"), to deal\\nin the Software without restriction, including without limitation the rights\\nto use, copy, modify, merge, publish, distribute, sublicense, and/or sell\\ncopies of the Software, and to permit persons to whom the Software is\\nfurnished to do so, subject to the following conditions:\\n\\nThe above copyright notice and this permission notice shall be included in all\\ncopies or substantial portions of the Software.\\n\\nTHE SOFTWARE IS PROVIDED \\\"AS IS\\\", WITHOUT WARRANTY OF ANY KIND, EXPRESS OR\\nIMPLIED, INCLUDING BUT NOT LIMITED TO THE WARRANTIES OF MERCHANTABILITY,\\nFITNESS FOR A PARTICULAR PURPOSE AND NONINFRINGEMENT. IN NO EVENT SHALL THE\\nAUTHORS OR COPYRIGHT HOLDERS BE LIABLE FOR ANY CLAIM, DAMAGES OR OTHER\\nLIABILITY, WHETHER IN AN ACTION OF CONTRACT, TORT OR OTHERWISE, ARISING FROM,\\nOUT OF OR IN CONNECTION WITH THE SOFTWARE OR THE USE OR OTHER DEALINGS IN THE\\nSOFTWARE.\\n\",\"modelfile\":\"# Modelfile generated by \\\"ollama show\\\"\\n# To build a new Modelfile based on this, replace FROM with:\\n# FROM deepseek-r1:14b\\n\\nFROM D:\\\\models\\\\blobs\\\\sha256-6e9f90f02bb3b39b59e81916e8cfce9deb45aeaeb9a54a5be4414486b907dc1e\\nTEMPLATE \\\"\\\"\\\"{{- if .System }}{{ .System }}{{ end }}\\n{{- range $i, $_ := .Messages }}\\n{{- $last := eq (len (slice $.Messages $i)) 1}}\\n{{- if eq .Role \\\"user\\\" }}\\u003c｜User｜\\u003e{{ .Content }}\\n{{- else if eq .Role \\\"assistant\\\" }}\\u003c｜Assistant｜\\u003e{{ .Content }}{{- if not $last }}\\u003c｜end▁of▁sentence｜\\u003e{{- end }}\\n{{- end }}\\n{{- if and $last (ne .Role \\\"assistant\\\") }}\\u003c｜Assistant｜\\u003e{{- end }}\\n{{- end }}\\\"\\\"\\\"\\nPARAMETER stop \\u003c｜begin▁of▁sentence｜\\u003e\\nPARAMETER stop \\u003c｜end▁of▁sentence｜\\u003e\\nPARAMETER stop \\u003c｜User｜\\u003e\\nPARAMETER stop \\u003c｜Assistant｜\\u003e\\nLICENSE \\\"\\\"\\\"MIT License\\n\\nCopyright (c) 2023 DeepSeek\\n\\nPermission is hereby granted, free of charge, to any person obtaining a copy\\nof this software and associated documentation files (the \\\"Software\\\"), to deal\\nin the Software without restriction, including without limitation the rights\\nto use, copy, modify, merge, publish, distribute, sublicense, and/or sell\\ncopies of the Software, and to permit persons to whom the Software is\\nfurnished to do so, subject to the following conditions:\\n\\nThe above copyright notice and this permission notice shall be included in all\\ncopies or substantial portions of the Software.\\n\\nTHE SOFTWARE IS PROVIDED \\\"AS IS\\\", WITHOUT WARRANTY OF ANY KIND, EXPRESS OR\\nIMPLIED, INCLUDING BUT NOT LIMITED TO THE WARRANTIES OF MERCHANTABILITY,\\nFITNESS FOR A PARTICULAR PURPOSE AND NONINFRINGEMENT. IN NO EVENT SHALL THE\\nAUTHORS OR COPYRIGHT HOLDERS BE LIABLE FOR ANY CLAIM, DAMAGES OR OTHER\\nLIABILITY, WHETHER IN AN ACTION OF CONTRACT, TORT OR OTHERWISE, ARISING FROM,\\nOUT OF OR IN CONNECTION WITH THE SOFTWARE OR THE USE OR OTHER DEALINGS IN THE\\nSOFTWARE.\\n\\\"\\\"\\\"\\n\",\"parameters\":\"stop                           \\\"\\u003c｜begin▁of▁sentence｜\\u003e\\\"\\nstop                           \\\"\\u003c｜end▁of▁sentence｜\\u003e\\\"\\nstop                           \\\"\\u003c｜User｜\\u003e\\\"\\nstop                           \\\"\\u003c｜Assistant｜\\u003e\\\"\",\"template\":\"{{- if .System }}{{ .System }}{{ end }}\\n{{- range $i, $_ := .Messages }}\\n{{- $last := eq (len (slice $.Messages $i)) 1}}\\n{{- if eq .Role \\\"user\\\" }}\\u003c｜User｜\\u003e{{ .Content }}\\n{{- else if eq .Role \\\"assistant\\\" }}\\u003c｜Assistant｜\\u003e{{ .Content }}{{- if not $last }}\\u003c｜end▁of▁sentence｜\\u003e{{- end }}\\n{{- end }}\\n{{- if and $last (ne .Role \\\"assistant\\\") }}\\u003c｜Assistant｜\\u003e{{- end }}\\n{{- end }}\",\"details\":{\"parent_model\":\"\",\"format\":\"gguf\",\"family\":\"qwen2\",\"families\":[\"qwen2\"],\"parameter_size\":\"14.8B\",\"quantization_level\":\"Q4_K_M\"},\"model_info\":{\"general.architecture\":\"qwen2\",\"general.basename\":\"DeepSeek-R1-Distill-Qwen\",\"general.file_type\":15,\"general.parameter_count\":14770033664,\"general.quantization_version\":2,\"general.size_label\":\"14B\",\"general.type\":\"model\",\"qwen2.attention.head_count\":40,\"qwen2.attention.head_count_kv\":8,\"qwen2.attention.layer_norm_rms_epsilon\":0.00001,\"qwen2.block_count\":48,\"qwen2.context_length\":131072,\"qwen2.embedding_length\":5120,\"qwen2.feed_forward_length\":13824,\"qwen2.rope.freq_base\":1000000,\"tokenizer.ggml.add_bos_token\":true,\"tokenizer.ggml.add_eos_token\":false,\"tokenizer.ggml.bos_token_id\":151646,\"tokenizer.ggml.eos_token_id\":151643,\"tokenizer.ggml.merges\":null,\"tokenizer.ggml.model\":\"gpt2\",\"tokenizer.ggml.padding_token_id\":151643,\"tokenizer.ggml.pre\":\"qwen2\",\"tokenizer.ggml.token_type\":null,\"tokenizer.ggml.tokens\":null},\"modified_at\":\"2025-03-16T10:49:32.2112754+08:00\"}\n"
     ]
    }
   ],
   "source": [
    "import requests\n",
    "\n",
    "url = \"http://127.0.0.1:11434/api/show\"\n",
    "payload = {\"model\": \"deepseek-r1:14b\"}\n",
    "\n",
    "response = requests.post(url, json=payload)\n",
    "print(response.text)"
   ]
  }
 ],
 "metadata": {
  "kernelspec": {
   "display_name": "Python 3",
   "language": "python",
   "name": "python3"
  },
  "language_info": {
   "codemirror_mode": {
    "name": "ipython",
    "version": 3
   },
   "file_extension": ".py",
   "mimetype": "text/x-python",
   "name": "python",
   "nbconvert_exporter": "python",
   "pygments_lexer": "ipython3",
   "version": "3.10.11"
  }
 },
 "nbformat": 4,
 "nbformat_minor": 2
}
