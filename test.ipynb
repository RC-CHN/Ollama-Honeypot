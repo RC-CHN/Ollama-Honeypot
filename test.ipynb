{
 "cells": [
  {
   "cell_type": "code",
   "execution_count": 1,
   "metadata": {},
   "outputs": [
    {
     "name": "stdout",
     "output_type": "stream",
     "text": [
      "{'model': 'deepseek-r1:671b', 'created_at': '2025-03-25T03:11:37.2963101Z', 'response': '服务器繁忙，请稍后再试。', 'done': True, 'done_reason': 'stop'}\n"
     ]
    }
   ],
   "source": [
    "import requests\n",
    "\n",
    "url = \"http://localhost:11434/api/generate\"\n",
    "data = {\n",
    "    \"model\": \"deepseek-r1:671b\",\n",
    "    \"prompt\": \"Why is the sky blue?\",\n",
    "    \"stream\": True\n",
    "}\n",
    "\n",
    "response = requests.post(url, json=data)\n",
    "\n",
    "print(response.json())  # 解析并打印 JSON 响应\n"
   ]
  },
  {
   "cell_type": "code",
   "execution_count": null,
   "metadata": {},
   "outputs": [
    {
     "name": "stdout",
     "output_type": "stream",
     "text": [
      "{\"model\":\"deepseek-r1:671b\",\"created_at\":\"2025-03-24T14:08:08.797097Z\",\"message\":{\"role\":\"assistant\",\"content\":\"服务器繁忙，请稍后再试。\"},\"done_reason\":\"stop\",\"done\":false,\"prompt_eval_count\":100,\"prompt_eval_duration\":124210600,\"eval_count\":1000}\n"
     ]
    }
   ],
   "source": [
    "import requests\n",
    "\n",
    "url = \"http://localhost:11434/api/chat\"\n",
    "data = {\n",
    "    \"model\": \"deepseek-r1:671b\",\n",
    "    \"messages\": [\n",
    "        {\n",
    "            \"role\": \"user\",\n",
    "            \"content\": \"why is the sky blue?\"\n",
    "        }\n",
    "    ]\n",
    "}\n",
    "\n",
    "response = requests.post(url, json=data)\n",
    "\n",
    "print(response.text)  # 解析并打印 JSON 响应\n"
   ]
  },
  {
   "cell_type": "code",
   "execution_count": 3,
   "metadata": {},
   "outputs": [
    {
     "data": {
      "text/plain": [
       "'{\"model\":\"deepseek-r1:671b\",\"created_at\":\"2025-03-24T14:04:39.2043357Z\",\"message\":{\"role\":\"assistant\",\"content\":\"服\"},\"done\":false,\"prompt_eval_count\":100,\"prompt_eval_duration\":1000000000,\"eval_count\":1000,\"eval_duration\":60000000000}\\n{\"model\":\"deepseek-r1:671b\",\"created_at\":\"2025-03-24T14:04:39.7049289Z\",\"message\":{\"role\":\"assistant\",\"content\":\"务\"},\"done\":false,\"prompt_eval_count\":100,\"prompt_eval_duration\":1000000000,\"eval_count\":1000,\"eval_duration\":60000000000}\\n{\"model\":\"deepseek-r1:671b\",\"created_at\":\"2025-03-24T14:04:40.2052516Z\",\"message\":{\"role\":\"assistant\",\"content\":\"器\"},\"done\":false,\"prompt_eval_count\":100,\"prompt_eval_duration\":1000000000,\"eval_count\":1000,\"eval_duration\":60000000000}\\n{\"model\":\"deepseek-r1:671b\",\"created_at\":\"2025-03-24T14:04:40.705762Z\",\"message\":{\"role\":\"assistant\",\"content\":\"繁\"},\"done\":false,\"prompt_eval_count\":100,\"prompt_eval_duration\":1000000000,\"eval_count\":1000,\"eval_duration\":60000000000}\\n{\"model\":\"deepseek-r1:671b\",\"created_at\":\"2025-03-24T14:04:41.206156Z\",\"message\":{\"role\":\"assistant\",\"content\":\"忙\"},\"done\":false,\"prompt_eval_count\":100,\"prompt_eval_duration\":1000000000,\"eval_count\":1000,\"eval_duration\":60000000000}\\n{\"model\":\"deepseek-r1:671b\",\"created_at\":\"2025-03-24T14:04:41.7071533Z\",\"message\":{\"role\":\"assistant\",\"content\":\"，\"},\"done\":false,\"prompt_eval_count\":100,\"prompt_eval_duration\":1000000000,\"eval_count\":1000,\"eval_duration\":60000000000}\\n{\"model\":\"deepseek-r1:671b\",\"created_at\":\"2025-03-24T14:04:42.2075146Z\",\"message\":{\"role\":\"assistant\",\"content\":\"请\"},\"done\":false,\"prompt_eval_count\":100,\"prompt_eval_duration\":1000000000,\"eval_count\":1000,\"eval_duration\":60000000000}\\n{\"model\":\"deepseek-r1:671b\",\"created_at\":\"2025-03-24T14:04:42.7083898Z\",\"message\":{\"role\":\"assistant\",\"content\":\"稍\"},\"done\":false,\"prompt_eval_count\":100,\"prompt_eval_duration\":1000000000,\"eval_count\":1000,\"eval_duration\":60000000000}\\n{\"model\":\"deepseek-r1:671b\",\"created_at\":\"2025-03-24T14:04:43.2087977Z\",\"message\":{\"role\":\"assistant\",\"content\":\"后\"},\"done\":false,\"prompt_eval_count\":100,\"prompt_eval_duration\":1000000000,\"eval_count\":1000,\"eval_duration\":60000000000}\\n{\"model\":\"deepseek-r1:671b\",\"created_at\":\"2025-03-24T14:04:43.7099601Z\",\"message\":{\"role\":\"assistant\",\"content\":\"再\"},\"done\":false,\"prompt_eval_count\":100,\"prompt_eval_duration\":1000000000,\"eval_count\":1000,\"eval_duration\":60000000000}\\n{\"model\":\"deepseek-r1:671b\",\"created_at\":\"2025-03-24T14:04:44.2105097Z\",\"message\":{\"role\":\"assistant\",\"content\":\"试\"},\"done\":false,\"prompt_eval_count\":100,\"prompt_eval_duration\":1000000000,\"eval_count\":1000,\"eval_duration\":60000000000}\\n{\"model\":\"deepseek-r1:671b\",\"created_at\":\"2025-03-24T14:04:44.7117464Z\",\"message\":{\"role\":\"assistant\",\"content\":\"。\"},\"done\":false,\"prompt_eval_count\":100,\"prompt_eval_duration\":1000000000,\"eval_count\":1000,\"eval_duration\":60000000000}\\n{\"model\":\"deepseek-r1:671b\",\"created_at\":\"2025-03-24T14:04:45.212047Z\",\"message\":{\"role\":\"assistant\",\"content\":\"\"},\"done_reason\":\"stop\",\"done\":false,\"prompt_eval_count\":100,\"prompt_eval_duration\":6020734500,\"eval_count\":1000,\"eval_duration\":717300}\\n'"
      ]
     },
     "execution_count": 3,
     "metadata": {},
     "output_type": "execute_result"
    }
   ],
   "source": [
    "response.text"
   ]
  },
  {
   "cell_type": "code",
   "execution_count": 2,
   "metadata": {},
   "outputs": [
    {
     "name": "stdout",
     "output_type": "stream",
     "text": [
      "ChatCompletionMessage(content='服务器繁忙，请稍后再试。', refusal=None, role='assistant', audio=None, function_call=None, tool_calls=None)\n"
     ]
    }
   ],
   "source": [
    "from openai import OpenAI\n",
    "client = OpenAI(base_url=\"http://127.0.0.1:11434/v1/\", api_key=\"aaa\")\n",
    "\n",
    "completion = client.chat.completions.create(\n",
    "  model=\"deepseek-r1:671b\",\n",
    "  messages=[\n",
    "    {\"role\": \"developer\", \"content\": \"You are a helpful assistant.\"},\n",
    "    {\"role\": \"user\", \"content\": \"Hello!\"}\n",
    "  ],\n",
    ")\n",
    "\n",
    "print(completion.choices[0].message)\n"
   ]
  },
  {
   "cell_type": "code",
   "execution_count": 3,
   "metadata": {},
   "outputs": [
    {
     "name": "stdout",
     "output_type": "stream",
     "text": [
      "ChoiceDelta(content='服', function_call=None, refusal=None, role='assistant', tool_calls=None)\n",
      "ChoiceDelta(content='务', function_call=None, refusal=None, role='assistant', tool_calls=None)\n",
      "ChoiceDelta(content='器', function_call=None, refusal=None, role='assistant', tool_calls=None)\n",
      "ChoiceDelta(content='繁', function_call=None, refusal=None, role='assistant', tool_calls=None)\n",
      "ChoiceDelta(content='忙', function_call=None, refusal=None, role='assistant', tool_calls=None)\n",
      "ChoiceDelta(content='，', function_call=None, refusal=None, role='assistant', tool_calls=None)\n",
      "ChoiceDelta(content='请', function_call=None, refusal=None, role='assistant', tool_calls=None)\n",
      "ChoiceDelta(content='稍', function_call=None, refusal=None, role='assistant', tool_calls=None)\n",
      "ChoiceDelta(content='后', function_call=None, refusal=None, role='assistant', tool_calls=None)\n",
      "ChoiceDelta(content='再', function_call=None, refusal=None, role='assistant', tool_calls=None)\n",
      "ChoiceDelta(content='试', function_call=None, refusal=None, role='assistant', tool_calls=None)\n",
      "ChoiceDelta(content='。', function_call=None, refusal=None, role='assistant', tool_calls=None)\n",
      "ChoiceDelta(content='', function_call=None, refusal=None, role='assistant', tool_calls=None)\n"
     ]
    }
   ],
   "source": [
    "from openai import OpenAI\n",
    "client = OpenAI(base_url=\"http://127.0.0.1:11434/v1/\", api_key=\"aaa\")\n",
    "\n",
    "completion = client.chat.completions.create(\n",
    "  model=\"deepseek-r1:671b\",\n",
    "  messages=[\n",
    "    {\"role\": \"developer\", \"content\": \"You are a helpful assistant.\"},\n",
    "    {\"role\": \"user\", \"content\": \"Hello!\"}\n",
    "  ],\n",
    "  stream=True\n",
    ")\n",
    "\n",
    "for chunk in completion:\n",
    "  print(chunk.choices[0].delta)\n"
   ]
  }
 ],
 "metadata": {
  "kernelspec": {
   "display_name": "Python 3",
   "language": "python",
   "name": "python3"
  },
  "language_info": {
   "codemirror_mode": {
    "name": "ipython",
    "version": 3
   },
   "file_extension": ".py",
   "mimetype": "text/x-python",
   "name": "python",
   "nbconvert_exporter": "python",
   "pygments_lexer": "ipython3",
   "version": "3.10.11"
  }
 },
 "nbformat": 4,
 "nbformat_minor": 2
}
